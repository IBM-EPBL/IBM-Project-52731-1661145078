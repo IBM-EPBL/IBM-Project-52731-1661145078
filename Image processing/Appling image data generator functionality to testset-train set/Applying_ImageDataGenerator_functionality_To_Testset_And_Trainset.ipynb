{
  "nbformat": 4,
  "nbformat_minor": 0,
  "metadata": {
    "colab": {
      "provenance": []
    },
    "kernelspec": {
      "name": "python3",
      "display_name": "Python 3"
    },
    "language_info": {
      "name": "python"
    }
  },
  "cells": [
    {
      "cell_type": "code",
      "execution_count": 1,
      "metadata": {
        "id": "t4cz-HVDbiO5"
      },
      "outputs": [],
      "source": [
        "import keras\n",
        "from keras.preprocessing.image import ImageDataGenerator"
      ]
    },
    {
      "cell_type": "code",
      "source": [
        "#Define the parameters/arguments for ImageDataGenerator class\n",
        "train_datagen=ImageDataGenerator(rescale=1./255,shear_range=0.2,rotation_range=180,zoom_range=0.2,horizontal_flip=True)\n",
        "\n",
        "test_datagen=ImageDataGenerator(rescale=1./255)"
      ],
      "metadata": {
        "id": "Cb03J5BLbrqH"
      },
      "execution_count": 2,
      "outputs": []
    },
    {
      "cell_type": "code",
      "source": [
        "!unzip '/content/Data Collection.zip'"
      ],
      "metadata": {
        "colab": {
          "base_uri": "https://localhost:8080/"
        },
        "id": "QIeyqLgMeQEe",
        "outputId": "5abb5920-5530-4b1d-9edd-33653dda0a85"
      },
      "execution_count": 8,
      "outputs": [
        {
          "output_type": "stream",
          "name": "stdout",
          "text": [
            "Archive:  /content/Data Collection.zip\n",
            "   creating: Data Collection/Test set/\n",
            "   creating: Data Collection/Test set/forest/\n",
            "  inflating: Data Collection/Test set/forest/20221116-WA0012.jpk forest.jpg  \n",
            "  inflating: Data Collection/Test set/forest/IMG-20221116-WA0002.jpg  \n",
            "  inflating: Data Collection/Test set/forest/IMG-20221116-WA0003.jpg  \n",
            "  inflating: Data Collection/Test set/forest/IMG-20221116-WA0004.jpg  \n",
            "  inflating: Data Collection/Test set/forest/IMG-20221116-WA0005.jpg  \n",
            "  inflating: Data Collection/Test set/forest/IMG-20221116-WA0006.jpg  \n",
            "  inflating: Data Collection/Test set/forest/IMG-20221116-WA0007.jpg  \n",
            "  inflating: Data Collection/Test set/forest/IMG-20221116-WA0009.jpg  \n",
            "  inflating: Data Collection/Test set/forest/IMG-20221116-WA0010.jpg  \n",
            "  inflating: Data Collection/Test set/forest/IMG-20221116-WA0011.jpg  \n",
            "  inflating: Data Collection/Test set/forest/IMG-20221117-WA0003.jpg  \n",
            "  inflating: Data Collection/Test set/forest/IMG-20221117-WA0007.jpg  \n",
            "   creating: Data Collection/Train set/\n",
            "   creating: Data Collection/Train set/With fire/\n",
            "  inflating: Data Collection/Train set/With fire/IMG-20221116-WA0013.jpg  \n",
            "  inflating: Data Collection/Train set/With fire/IMG-20221116-WA0014.jpg  \n",
            "  inflating: Data Collection/Train set/With fire/IMG-20221116-WA0015.jpg  \n",
            "  inflating: Data Collection/Train set/With fire/IMG-20221116-WA0016.jpg  \n",
            "  inflating: Data Collection/Train set/With fire/IMG-20221116-WA0017.jpg  \n",
            "  inflating: Data Collection/Train set/With fire/IMG-20221116-WA0021.jpg  \n",
            "  inflating: Data Collection/Train set/With fire/IMG-20221117-WA0001.jpg  \n",
            "  inflating: Data Collection/Train set/With fire/IMG-20221117-WA0002.jpg  \n",
            "  inflating: Data Collection/Train set/With fire/IMG-20221117-WA0004.jpg  \n",
            "  inflating: Data Collection/Train set/With fire/IMG-20221117-WA0005.jpg  \n",
            "  inflating: Data Collection/Train set/With fire/IMG-20221117-WA0006.jpg  \n",
            "  inflating: Data Collection/Train set/With fire/IMG-20221117-WA0008.jpg  \n"
          ]
        }
      ]
    },
    {
      "cell_type": "code",
      "source": [
        "#Applying ImageDataGenerator functionality to trainset\n",
        "x_train=train_datagen.flow_from_directory('/content/Data Collection/Train set',target_size=(128,128),batch_size=32,class_mode='binary')"
      ],
      "metadata": {
        "colab": {
          "base_uri": "https://localhost:8080/"
        },
        "id": "pXMPw2WOeppc",
        "outputId": "51935b40-8044-466a-f18a-eb3f7a58b455"
      },
      "execution_count": 10,
      "outputs": [
        {
          "output_type": "stream",
          "name": "stdout",
          "text": [
            "Found 12 images belonging to 1 classes.\n"
          ]
        }
      ]
    },
    {
      "cell_type": "code",
      "source": [
        "x_test=test_datagen.flow_from_directory('/content/Data Collection/Train set',target_size=(128,128),batch_size=32,class_mode='binary')"
      ],
      "metadata": {
        "colab": {
          "base_uri": "https://localhost:8080/"
        },
        "id": "6KNL9c9HfeXo",
        "outputId": "50d80595-45a5-4fb4-a868-1d254f4b4d65"
      },
      "execution_count": 11,
      "outputs": [
        {
          "output_type": "stream",
          "name": "stdout",
          "text": [
            "Found 12 images belonging to 1 classes.\n"
          ]
        }
      ]
    }
  ]
}